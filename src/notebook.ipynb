{
 "cells": [
  {
   "cell_type": "code",
   "execution_count": null,
   "id": "70172e9c-eba1-42a7-bacc-b9c1a1e3c990",
   "metadata": {},
   "outputs": [],
   "source": [
    "import numpy as np\n",
    "from ddm import DDM\n",
    "import matplotlib.pyplot as plt\n",
    "from scipy.stats import linregress\n",
    "from scipy.optimize import curve_fit\n",
    "from tifffile import imread, imwrite"
   ]
  },
  {
   "cell_type": "code",
   "execution_count": null,
   "id": "1916b93a-aa73-4239-83b1-1b488f779f77",
   "metadata": {},
   "outputs": [],
   "source": [
    "# make sure images are in gray scale && dimensions aren't not too large (512x512 is ideal)\n",
    "sampling_time = 1/14.88\n",
    "ntau = 800\n",
    "calibration = (325e-6)/(1280)\n",
    "\n",
    "# list of files to analyze\n",
    "samples = [\"sample.tif\"]"
   ]
  },
  {
   "cell_type": "code",
   "execution_count": null,
   "id": "461660dd-4bbf-4d31-ba56-f4fa8c55e90f",
   "metadata": {},
   "outputs": [],
   "source": [
    "# compute ddm\n",
    "for i in range(len(samples)):\n",
    "    print(f\"[{i+1}/{len(samples)}]{samples[i]} : \")\n",
    "    stack = imread(samples[i]).astype(np.double)\n",
    "    ddmstack = DDM(stack, ntau, sampling_time)\n",
    "    result = ddmstack.compute()\n",
    "    imwrite( samples[i].split('.')[0]  + \"_ddm.tif\", result)"
   ]
  },
  {
   "cell_type": "code",
   "execution_count": null,
   "id": "e8e4ba06-f478-42fb-9d7c-f46363f5c94e",
   "metadata": {},
   "outputs": [],
   "source": [
    "# image structure function, to fit\n",
    "def D(t, A, B, freq):\n",
    "    return A * (1 - np.exp(-t*freq)) + B\n",
    "D = np.vectorize(D)\n",
    "\n",
    "ddms = [\"sample_ddm.tiff\"]\n",
    "freqs = np.zeros(512**2)"
   ]
  },
  {
   "cell_type": "code",
   "execution_count": null,
   "id": "4513dfbb-59cf-4038-ad33-0596442ac293",
   "metadata": {},
   "outputs": [],
   "source": [
    "# azimuthal average\n",
    "def radial_profile(data):\n",
    "    y0,x0 = data.shape\n",
    "\n",
    "    x,y = np.meshgrid(np.arange(data.shape[1]),np.arange(data.shape[0]))\n",
    "    R = np.sqrt( (y-y0//2)**2 + (x-x0//2)**2)\n",
    "\n",
    "    f = lambda r : data[(R >= r-.5) & (R < r+.5)].mean()\n",
    "    maxr = data.shape[1] - x0//2\n",
    "    r = np.linspace(1, maxr, num=maxr)\n",
    "\n",
    "    mean = np.vectorize(f)(r)\n",
    "    return r,mean"
   ]
  },
  {
   "cell_type": "code",
   "execution_count": null,
   "id": "76047920-0f54-4fbb-b3bc-ebb7cdf61037",
   "metadata": {},
   "outputs": [],
   "source": [
    "qs = np.arange(10,60, 1) # pick some qs\n",
    "radials = np.array([ [0] * ntau for _ in range(len(qs)) ])\n",
    "for ddm in [\"sample10_ddm.tif\"]:\n",
    "    stack = imread(ddm).astype(np.double)\n",
    "    for t in range(ntau):\n",
    "        _,mean = radial_profile(stack[t,:,:])\n",
    "        for i in range(len(qs)):\n",
    "            radials[i,t] = mean[qs[i]]"
   ]
  },
  {
   "cell_type": "code",
   "execution_count": null,
   "id": "d370644a-e211-4fe7-b880-9e0cfac94fc0",
   "metadata": {},
   "outputs": [],
   "source": [
    "delays = np.linspace(0, ntau*sampling_time, ntau)\n",
    "for i in range(len(qs)):\n",
    "    plt.plot(delays, radials[i,:]/np.max(radials[i,:]))\n",
    "\n",
    "plt.xlabel(r\"$\\Delta t (s)$\")\n",
    "plt.ylabel(r\"$D(q,\\Delta t)/D_{\\text{max}}$\")\n",
    "#plt.legend([f\"q = {q}\" for q in qs]);\n",
    "plt.title(\"Forme du signal. On plot pour tous les $q$.\");"
   ]
  },
  {
   "cell_type": "code",
   "execution_count": null,
   "id": "f28cbf64-d1d4-4992-a451-90559d98f508",
   "metadata": {},
   "outputs": [],
   "source": [
    "As = []\n",
    "Bs = []\n",
    "nus = []\n",
    "for i in range(len(qs)):\n",
    "    A,B,nu = curve_fit(D, delays, radials[i,:]/np.max(radials[i,:]), p0=[1,0,1])[0]\n",
    "    As.append(A)\n",
    "    Bs.append(B)\n",
    "    nus.append(nu)"
   ]
  },
  {
   "cell_type": "code",
   "execution_count": null,
   "id": "165a3b98-1d07-4360-9223-252a7e92ea48",
   "metadata": {},
   "outputs": [],
   "source": [
    "ts = np.linspace(0, ntau*sampling_time, ntau)\n",
    "plt.plot(ts, D(ts, A=As[2], B=Bs[2], freq=nus[2]), 'k');"
   ]
  },
  {
   "cell_type": "code",
   "execution_count": null,
   "id": "6b307cf0-f564-4e40-ac4d-ccf9e4f67edd",
   "metadata": {},
   "outputs": [],
   "source": [
    "real_qs = qs * (2*np.pi)/(512*calibration)"
   ]
  },
  {
   "cell_type": "code",
   "execution_count": null,
   "id": "4e333e64-987c-433b-82d6-23e967c22148",
   "metadata": {},
   "outputs": [],
   "source": [
    "real_qs_squared = real_qs**2\n",
    "test_nus = np.array(nus)\n",
    "\n",
    "Dm, intercept, _, _, se = linregress(real_qs_squared, test_nus)\n",
    "plt.plot(real_qs_squared, test_nus, 'o', color='k')\n",
    "\n",
    "plt.xlabel(r\"$q^2$\")\n",
    "plt.ylabel(r\"$\\nu$\")\n",
    "\n",
    "f = np.vectorize(lambda qsquared: Dm*qsquared + intercept)\n",
    "plt.title(f\"sample-lait4.tif, Dm = {Dm:.2e} $\\pm$ {se:.2e}\")\n",
    "plt.plot(real_qs_squared, f(real_qs_squared), '--', color='k')\n",
    "plt.grid()"
   ]
  },
  {
   "cell_type": "code",
   "execution_count": null,
   "id": "eeefdba0-94dd-413e-b652-2331129e2b80",
   "metadata": {},
   "outputs": [],
   "source": [
    "print(Dm)"
   ]
  }
 ],
 "metadata": {
  "kernelspec": {
   "display_name": "Python 3 (ipykernel)",
   "language": "python",
   "name": "python3"
  },
  "language_info": {
   "codemirror_mode": {
    "name": "ipython",
    "version": 3
   },
   "file_extension": ".py",
   "mimetype": "text/x-python",
   "name": "python",
   "nbconvert_exporter": "python",
   "pygments_lexer": "ipython3",
   "version": "3.12.1"
  }
 },
 "nbformat": 4,
 "nbformat_minor": 5
}
